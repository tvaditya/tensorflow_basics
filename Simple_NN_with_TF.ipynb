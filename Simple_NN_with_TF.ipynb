{
  "nbformat": 4,
  "nbformat_minor": 0,
  "metadata": {
    "colab": {
      "name": "Simple_NN_with_TF.ipynb",
      "version": "0.3.2",
      "provenance": []
    },
    "kernelspec": {
      "name": "python3",
      "display_name": "Python 3"
    }
  },
  "cells": [
    {
      "metadata": {
        "id": "RANTU-tkQIxp",
        "colab_type": "code",
        "colab": {}
      },
      "cell_type": "code",
      "source": [
        "import numpy as np\n",
        "import tensorflow as tf"
      ],
      "execution_count": 0,
      "outputs": []
    },
    {
      "metadata": {
        "id": "pofSxKXkQr6T",
        "colab_type": "code",
        "colab": {
          "base_uri": "https://localhost:8080/",
          "height": 34
        },
        "outputId": "4ca1d6e2-2e95-4ca6-eb2d-4947cc8bc963"
      },
      "cell_type": "code",
      "source": [
        "#Check tf version\n",
        "print(tf.__version__)"
      ],
      "execution_count": 2,
      "outputs": [
        {
          "output_type": "stream",
          "text": [
            "1.13.0-rc0\n"
          ],
          "name": "stdout"
        }
      ]
    },
    {
      "metadata": {
        "id": "j-dFY4ODQvuF",
        "colab_type": "code",
        "colab": {}
      },
      "cell_type": "code",
      "source": [
        "np.random.seed(42)\n",
        "tf.set_random_seed(42)"
      ],
      "execution_count": 0,
      "outputs": []
    },
    {
      "metadata": {
        "id": "k0vSoHnpQvw0",
        "colab_type": "code",
        "colab": {
          "base_uri": "https://localhost:8080/",
          "height": 101
        },
        "outputId": "38bb1c2a-9444-4263-eb4b-24e7da91d0c7"
      },
      "cell_type": "code",
      "source": [
        "rand_a = np.random.uniform(0, 100, (5,5))\n",
        "rand_a"
      ],
      "execution_count": 5,
      "outputs": [
        {
          "output_type": "execute_result",
          "data": {
            "text/plain": [
              "array([[37.45401188, 95.07143064, 73.19939418, 59.86584842, 15.60186404],\n",
              "       [15.59945203,  5.80836122, 86.61761458, 60.11150117, 70.80725778],\n",
              "       [ 2.05844943, 96.99098522, 83.24426408, 21.23391107, 18.18249672],\n",
              "       [18.34045099, 30.4242243 , 52.47564316, 43.19450186, 29.12291402],\n",
              "       [61.18528947, 13.94938607, 29.21446485, 36.63618433, 45.60699842]])"
            ]
          },
          "metadata": {
            "tags": []
          },
          "execution_count": 5
        }
      ]
    },
    {
      "metadata": {
        "id": "z4VZZz64QvzM",
        "colab_type": "code",
        "colab": {
          "base_uri": "https://localhost:8080/",
          "height": 101
        },
        "outputId": "df087825-de91-4f19-f14c-394389386249"
      },
      "cell_type": "code",
      "source": [
        "rand_b = np.random.uniform(0, 100, (5,1))\n",
        "rand_b"
      ],
      "execution_count": 6,
      "outputs": [
        {
          "output_type": "execute_result",
          "data": {
            "text/plain": [
              "array([[78.51759614],\n",
              "       [19.96737822],\n",
              "       [51.42344384],\n",
              "       [59.24145689],\n",
              "       [ 4.64504127]])"
            ]
          },
          "metadata": {
            "tags": []
          },
          "execution_count": 6
        }
      ]
    },
    {
      "metadata": {
        "id": "0MLUw03OQv1u",
        "colab_type": "code",
        "colab": {}
      },
      "cell_type": "code",
      "source": [
        "a = tf.placeholder(tf.float32)\n",
        "b = tf.placeholder(tf.float32)"
      ],
      "execution_count": 0,
      "outputs": []
    },
    {
      "metadata": {
        "id": "HXJjH9UeQv6n",
        "colab_type": "code",
        "colab": {}
      },
      "cell_type": "code",
      "source": [
        "add_op = a + b\n",
        "mul_op = a * b"
      ],
      "execution_count": 0,
      "outputs": []
    },
    {
      "metadata": {
        "id": "sifdLhp5RnYT",
        "colab_type": "code",
        "colab": {
          "base_uri": "https://localhost:8080/",
          "height": 185
        },
        "outputId": "028707ad-f1ab-4b98-dd69-300f8a1a8975"
      },
      "cell_type": "code",
      "source": [
        "# Just heating up with tf.session and placeholders\n",
        "with tf.Session() as sess:\n",
        "  \n",
        "  add_result = sess.run(add_op, feed_dict={a:rand_a, b:rand_b})\n",
        "  print(add_result)\n",
        "  \n",
        "  mul_result = sess.run(mul_op, feed_dict={a:rand_a, b:rand_b})\n",
        "  print(mul_result)\n",
        "  \n",
        "  "
      ],
      "execution_count": 12,
      "outputs": [
        {
          "output_type": "stream",
          "text": [
            "[[115.9716   173.58902  151.71698  138.38344   94.11946 ]\n",
            " [ 35.56683   25.77574  106.58499   80.07888   90.774635]\n",
            " [ 53.48189  148.41443  134.66771   72.65736   69.60594 ]\n",
            " [ 77.58191   89.66568  111.7171   102.43596   88.364365]\n",
            " [ 65.83033   18.594427  33.859505  41.281227  50.25204 ]]\n",
            "[[2940.7988   7464.7803   5747.4404   4700.5225   1225.0208  ]\n",
            " [ 311.48016   115.977745 1729.5267   1200.269    1413.8353  ]\n",
            " [ 105.85256  4987.6104   4280.7065   1091.9208    935.0066  ]\n",
            " [1086.515    1802.3754   3108.7334   2558.905    1725.2838  ]\n",
            " [ 284.20822    64.79547   135.7024    170.17659   211.8464  ]]\n"
          ],
          "name": "stdout"
        }
      ]
    },
    {
      "metadata": {
        "id": "4AbHmXkORncy",
        "colab_type": "code",
        "colab": {}
      },
      "cell_type": "code",
      "source": [
        "# Now we will buid a Neural Network"
      ],
      "execution_count": 0,
      "outputs": []
    },
    {
      "metadata": {
        "id": "Mgxy1RijRnfk",
        "colab_type": "code",
        "colab": {}
      },
      "cell_type": "code",
      "source": [
        "n_features = 10\n",
        "n_dense_neurons = 3"
      ],
      "execution_count": 0,
      "outputs": []
    },
    {
      "metadata": {
        "id": "n4dtpHGeT-mF",
        "colab_type": "code",
        "colab": {}
      },
      "cell_type": "code",
      "source": [
        "x = tf.placeholder(tf.float32, (None, n_features))\n",
        "W = tf.Variable(tf.random_normal([n_features, n_dense_neurons]))\n",
        "b = tf.Variable(tf.ones([n_dense_neurons]))"
      ],
      "execution_count": 0,
      "outputs": []
    },
    {
      "metadata": {
        "id": "0pWjVUNPT-oe",
        "colab_type": "code",
        "colab": {}
      },
      "cell_type": "code",
      "source": [
        "# We want to do y = Wx + b"
      ],
      "execution_count": 0,
      "outputs": []
    },
    {
      "metadata": {
        "id": "N4X8wZ9FT-q5",
        "colab_type": "code",
        "colab": {}
      },
      "cell_type": "code",
      "source": [
        "y = tf.matmul(x, W)"
      ],
      "execution_count": 0,
      "outputs": []
    },
    {
      "metadata": {
        "id": "cUi2ePeCT-tQ",
        "colab_type": "code",
        "colab": {}
      },
      "cell_type": "code",
      "source": [
        "z = tf.add(y, b)"
      ],
      "execution_count": 0,
      "outputs": []
    },
    {
      "metadata": {
        "id": "TRBFL4cCRnkC",
        "colab_type": "code",
        "colab": {}
      },
      "cell_type": "code",
      "source": [
        "# Activation function\n",
        "a = tf.sigmoid(z)"
      ],
      "execution_count": 0,
      "outputs": []
    },
    {
      "metadata": {
        "id": "xPPk043CU4Pl",
        "colab_type": "code",
        "colab": {}
      },
      "cell_type": "code",
      "source": [
        "init = tf.global_variables_initializer()"
      ],
      "execution_count": 0,
      "outputs": []
    },
    {
      "metadata": {
        "id": "NK-w0-ZLU4SJ",
        "colab_type": "code",
        "colab": {}
      },
      "cell_type": "code",
      "source": [
        "with tf.Session() as sess:\n",
        "  \n",
        "  sess.run(init)\n",
        "  \n",
        "  layer_out = sess.run(a, feed_dict={x: np.random.random([1, n_features])})"
      ],
      "execution_count": 0,
      "outputs": []
    },
    {
      "metadata": {
        "id": "TScm1LziU4UY",
        "colab_type": "code",
        "colab": {
          "base_uri": "https://localhost:8080/",
          "height": 34
        },
        "outputId": "a6a789f1-8b1b-414e-9d43-85166c5aadcc"
      },
      "cell_type": "code",
      "source": [
        "print(layer_out)"
      ],
      "execution_count": 27,
      "outputs": [
        {
          "output_type": "stream",
          "text": [
            "[[0.6671997  0.5886109  0.75623775]]\n"
          ],
          "name": "stdout"
        }
      ]
    },
    {
      "metadata": {
        "id": "E3xKEyYVU4XP",
        "colab_type": "code",
        "colab": {}
      },
      "cell_type": "code",
      "source": [
        "# Notice this was just a feed forward"
      ],
      "execution_count": 0,
      "outputs": []
    },
    {
      "metadata": {
        "id": "H39AGwTZU4ch",
        "colab_type": "code",
        "colab": {}
      },
      "cell_type": "code",
      "source": [
        ""
      ],
      "execution_count": 0,
      "outputs": []
    },
    {
      "metadata": {
        "id": "iq1se4EiU4hG",
        "colab_type": "code",
        "colab": {}
      },
      "cell_type": "code",
      "source": [
        ""
      ],
      "execution_count": 0,
      "outputs": []
    },
    {
      "metadata": {
        "id": "fEvwqC-mU4fl",
        "colab_type": "code",
        "colab": {}
      },
      "cell_type": "code",
      "source": [
        ""
      ],
      "execution_count": 0,
      "outputs": []
    },
    {
      "metadata": {
        "id": "eZGpYgxaU4Z7",
        "colab_type": "code",
        "colab": {}
      },
      "cell_type": "code",
      "source": [
        ""
      ],
      "execution_count": 0,
      "outputs": []
    }
  ]
}