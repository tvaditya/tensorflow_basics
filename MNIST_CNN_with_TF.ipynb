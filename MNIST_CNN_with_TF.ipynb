{
  "nbformat": 4,
  "nbformat_minor": 0,
  "metadata": {
    "colab": {
      "name": "MNIST_CNN_with_TF.ipynb",
      "version": "0.3.2",
      "provenance": []
    },
    "kernelspec": {
      "name": "python3",
      "display_name": "Python 3"
    }
  },
  "cells": [
    {
      "metadata": {
        "id": "4_P8D9haIheF",
        "colab_type": "code",
        "colab": {}
      },
      "cell_type": "code",
      "source": [
        "# MNIST CNN"
      ],
      "execution_count": 0,
      "outputs": []
    },
    {
      "metadata": {
        "id": "YF05epXAIl5P",
        "colab_type": "code",
        "colab": {}
      },
      "cell_type": "code",
      "source": [
        "import tensorflow as tf"
      ],
      "execution_count": 0,
      "outputs": []
    },
    {
      "metadata": {
        "id": "ZMNDNrpFIsnm",
        "colab_type": "code",
        "colab": {}
      },
      "cell_type": "code",
      "source": [
        "from tensorflow.examples.tutorials.mnist import input_data"
      ],
      "execution_count": 0,
      "outputs": []
    },
    {
      "metadata": {
        "id": "XASzkUrBItYu",
        "colab_type": "code",
        "outputId": "3a5ae36a-eead-4609-e9b6-31e5ccc01d30",
        "colab": {
          "base_uri": "https://localhost:8080/",
          "height": 524
        }
      },
      "cell_type": "code",
      "source": [
        "mnist = input_data.read_data_sets(\"MNIST_data/\", one_hot = True)"
      ],
      "execution_count": 4,
      "outputs": [
        {
          "output_type": "stream",
          "text": [
            "WARNING:tensorflow:From <ipython-input-4-1a516c502833>:1: read_data_sets (from tensorflow.contrib.learn.python.learn.datasets.mnist) is deprecated and will be removed in a future version.\n",
            "Instructions for updating:\n",
            "Please use alternatives such as official/mnist/dataset.py from tensorflow/models.\n",
            "WARNING:tensorflow:From /usr/local/lib/python3.6/dist-packages/tensorflow/contrib/learn/python/learn/datasets/mnist.py:260: maybe_download (from tensorflow.contrib.learn.python.learn.datasets.base) is deprecated and will be removed in a future version.\n",
            "Instructions for updating:\n",
            "Please write your own downloading logic.\n",
            "WARNING:tensorflow:From /usr/local/lib/python3.6/dist-packages/tensorflow/contrib/learn/python/learn/datasets/base.py:252: _internal_retry.<locals>.wrap.<locals>.wrapped_fn (from tensorflow.contrib.learn.python.learn.datasets.base) is deprecated and will be removed in a future version.\n",
            "Instructions for updating:\n",
            "Please use urllib or similar directly.\n",
            "Successfully downloaded train-images-idx3-ubyte.gz 9912422 bytes.\n",
            "WARNING:tensorflow:From /usr/local/lib/python3.6/dist-packages/tensorflow/contrib/learn/python/learn/datasets/mnist.py:262: extract_images (from tensorflow.contrib.learn.python.learn.datasets.mnist) is deprecated and will be removed in a future version.\n",
            "Instructions for updating:\n",
            "Please use tf.data to implement this functionality.\n",
            "Extracting MNIST_data/train-images-idx3-ubyte.gz\n",
            "Successfully downloaded train-labels-idx1-ubyte.gz 28881 bytes.\n",
            "WARNING:tensorflow:From /usr/local/lib/python3.6/dist-packages/tensorflow/contrib/learn/python/learn/datasets/mnist.py:267: extract_labels (from tensorflow.contrib.learn.python.learn.datasets.mnist) is deprecated and will be removed in a future version.\n",
            "Instructions for updating:\n",
            "Please use tf.data to implement this functionality.\n",
            "Extracting MNIST_data/train-labels-idx1-ubyte.gz\n",
            "WARNING:tensorflow:From /usr/local/lib/python3.6/dist-packages/tensorflow/contrib/learn/python/learn/datasets/mnist.py:110: dense_to_one_hot (from tensorflow.contrib.learn.python.learn.datasets.mnist) is deprecated and will be removed in a future version.\n",
            "Instructions for updating:\n",
            "Please use tf.one_hot on tensors.\n",
            "Successfully downloaded t10k-images-idx3-ubyte.gz 1648877 bytes.\n",
            "Extracting MNIST_data/t10k-images-idx3-ubyte.gz\n",
            "Successfully downloaded t10k-labels-idx1-ubyte.gz 4542 bytes.\n",
            "Extracting MNIST_data/t10k-labels-idx1-ubyte.gz\n",
            "WARNING:tensorflow:From /usr/local/lib/python3.6/dist-packages/tensorflow/contrib/learn/python/learn/datasets/mnist.py:290: DataSet.__init__ (from tensorflow.contrib.learn.python.learn.datasets.mnist) is deprecated and will be removed in a future version.\n",
            "Instructions for updating:\n",
            "Please use alternatives such as official/mnist/dataset.py from tensorflow/models.\n"
          ],
          "name": "stdout"
        }
      ]
    },
    {
      "metadata": {
        "id": "61thXAmkItbn",
        "colab_type": "code",
        "colab": {}
      },
      "cell_type": "code",
      "source": [
        "#HELPER"
      ],
      "execution_count": 0,
      "outputs": []
    },
    {
      "metadata": {
        "id": "xDqJsJKkIteG",
        "colab_type": "code",
        "colab": {}
      },
      "cell_type": "code",
      "source": [
        "#INIT WEIGHTS\n",
        "\n",
        "def init_weights(shape):\n",
        "  init_random_dist = tf.truncated_normal(shape, stddev=0.1)\n",
        "  return tf.Variable(init_random_dist)"
      ],
      "execution_count": 0,
      "outputs": []
    },
    {
      "metadata": {
        "id": "HZv6nGr9Itgn",
        "colab_type": "code",
        "colab": {}
      },
      "cell_type": "code",
      "source": [
        "#INIT BIAS\n",
        "def init_bias(shape):\n",
        "  init_bias_vals = tf.constant(0.1, shape=shape)\n",
        "  return tf.Variable(init_bias_vals)"
      ],
      "execution_count": 0,
      "outputs": []
    },
    {
      "metadata": {
        "id": "zAfSEeojIti5",
        "colab_type": "code",
        "colab": {}
      },
      "cell_type": "code",
      "source": [
        "# CONV2D\n",
        "def conv2d(x, W):\n",
        "  # x -> [batch, Height, Width, numChannels]\n",
        "  # W ->  Kernel [filter h, filter w, channel in, channels out]\n",
        "  return tf.nn.conv2d(x, W, strides=[1, 1, 1, 1], padding='SAME')"
      ],
      "execution_count": 0,
      "outputs": []
    },
    {
      "metadata": {
        "id": "ErTT-q47ItlS",
        "colab_type": "code",
        "colab": {}
      },
      "cell_type": "code",
      "source": [
        "# POOLING\n",
        "def max_pool_2by2(x):\n",
        "  return tf.nn.max_pool(x, ksize=[1,2,2,1], strides=[1,2,2,1], padding='SAME')"
      ],
      "execution_count": 0,
      "outputs": []
    },
    {
      "metadata": {
        "id": "kzSVu_i7Itnm",
        "colab_type": "code",
        "colab": {}
      },
      "cell_type": "code",
      "source": [
        "# CONVOLUTIONAL LAYER\n",
        "def convolutional_layer(input_x, shape):\n",
        "  W = init_weights(shape)\n",
        "  b = init_bias([shape[3]])\n",
        "  return tf.nn.relu(conv2d(input_x, W) + b)"
      ],
      "execution_count": 0,
      "outputs": []
    },
    {
      "metadata": {
        "id": "dYYB-hqtItp7",
        "colab_type": "code",
        "colab": {}
      },
      "cell_type": "code",
      "source": [
        "# FULLY CONNECTED\n",
        "def normal_full_layer(input_layer, size):\n",
        "  input_size = int(input_layer.get_shape()[1])\n",
        "  W = init_weights([input_size, size])\n",
        "  b = init_bias([size])\n",
        "  return tf.matmul(input_layer, W) + b"
      ],
      "execution_count": 0,
      "outputs": []
    },
    {
      "metadata": {
        "id": "X652koN6ItsY",
        "colab_type": "code",
        "colab": {}
      },
      "cell_type": "code",
      "source": [
        "# PLACEHOLDERS\n",
        "x = tf.placeholder(tf.float32, shape=[None, 784])\n",
        "y_true = tf.placeholder(tf.float32, shape=[None, 10])"
      ],
      "execution_count": 0,
      "outputs": []
    },
    {
      "metadata": {
        "id": "aOWKw4aGItve",
        "colab_type": "code",
        "colab": {}
      },
      "cell_type": "code",
      "source": [
        "# LAYERS\n",
        "x_image = tf.reshape(x, [-1, 28, 28, 1])\n",
        "convo_1 = convolutional_layer(x_image, shape=[5,5,1,32])\n",
        "convo_1_pooling = max_pool_2by2(convo_1)\n",
        "convo_2 = convolutional_layer(convo_1_pooling, shape=[5,5,32,64])\n",
        "convo_2_pooling = max_pool_2by2(convo_2)\n",
        "convo_2_flat = tf.reshape(convo_2_pooling, [-1, 7*7*64])\n",
        "full_layer_one = tf.nn.relu(normal_full_layer(convo_2_flat, 1024))"
      ],
      "execution_count": 0,
      "outputs": []
    },
    {
      "metadata": {
        "id": "YbUhfzhcItx5",
        "colab_type": "code",
        "colab": {}
      },
      "cell_type": "code",
      "source": [
        "# DROPout\n",
        "hold_prob = tf.placeholder(tf.float32)\n",
        "full_one_dropout = tf.nn.dropout(full_layer_one, keep_prob=hold_prob)\n",
        "y_pred = normal_full_layer(full_one_dropout, 10)"
      ],
      "execution_count": 0,
      "outputs": []
    },
    {
      "metadata": {
        "id": "9j_RTNs-It0Y",
        "colab_type": "code",
        "colab": {
          "base_uri": "https://localhost:8080/",
          "height": 171
        },
        "outputId": "b54ecbe4-2f68-422a-cfa1-0eb4cf2aef83"
      },
      "cell_type": "code",
      "source": [
        "# Loss Function\n",
        "cross_entropy = tf.reduce_mean(tf.nn.softmax_cross_entropy_with_logits(labels=y_true, logits=y_pred))"
      ],
      "execution_count": 16,
      "outputs": [
        {
          "output_type": "stream",
          "text": [
            "WARNING:tensorflow:From <ipython-input-16-de34d8b053ce>:1: softmax_cross_entropy_with_logits (from tensorflow.python.ops.nn_ops) is deprecated and will be removed in a future version.\n",
            "Instructions for updating:\n",
            "\n",
            "Future major versions of TensorFlow will allow gradients to flow\n",
            "into the labels input on backprop by default.\n",
            "\n",
            "See `tf.nn.softmax_cross_entropy_with_logits_v2`.\n",
            "\n"
          ],
          "name": "stdout"
        }
      ]
    },
    {
      "metadata": {
        "id": "30rzvEmtIsqQ",
        "colab_type": "code",
        "colab": {}
      },
      "cell_type": "code",
      "source": [
        "# Optimizer\n",
        "optimizer = tf.train.AdamOptimizer(learning_rate=0.001)\n",
        "train = optimizer.minimize(cross_entropy)"
      ],
      "execution_count": 0,
      "outputs": []
    },
    {
      "metadata": {
        "id": "eJGMuxSHIss2",
        "colab_type": "code",
        "colab": {}
      },
      "cell_type": "code",
      "source": [
        "init = tf.global_variables_initializer()"
      ],
      "execution_count": 0,
      "outputs": []
    },
    {
      "metadata": {
        "id": "lmu__H8NW8AS",
        "colab_type": "code",
        "colab": {
          "base_uri": "https://localhost:8080/",
          "height": 4217
        },
        "outputId": "c1e22bbf-2f7e-4994-db59-eb057d9d5c0a"
      },
      "cell_type": "code",
      "source": [
        "steps = 5000\n",
        "\n",
        "with tf.Session() as sess:\n",
        "  \n",
        "  sess.run(init)\n",
        "  \n",
        "  for i in range(steps):\n",
        "    \n",
        "    batch_x, batch_y = mnist.train.next_batch(50)\n",
        "    \n",
        "    sess.run(train, feed_dict={x:batch_x, y_true:batch_y, hold_prob:0.5})\n",
        "    \n",
        "    if i%100 == 0:\n",
        "      \n",
        "      print(\"ON STEP: {}\".format(i))\n",
        "      print(\"ACCURACY: \")\n",
        "      matches = tf.equal(tf.argmax(y_pred,1), tf.argmax(y_true,1))\n",
        "      #matches is boolean cast it to float\n",
        "      acc = tf.reduce_mean(tf.cast(matches, tf.float32))\n",
        "      print(sess.run(acc, feed_dict={x:mnist.test.images, y_true:mnist.test.labels, hold_prob:1.0}))\n",
        "      print('\\n')"
      ],
      "execution_count": 20,
      "outputs": [
        {
          "output_type": "stream",
          "text": [
            "ON STEP: 0\n",
            "ACCURACY: \n",
            "0.1638\n",
            "\n",
            "\n",
            "ON STEP: 100\n",
            "ACCURACY: \n",
            "0.9359\n",
            "\n",
            "\n",
            "ON STEP: 200\n",
            "ACCURACY: \n",
            "0.9656\n",
            "\n",
            "\n",
            "ON STEP: 300\n",
            "ACCURACY: \n",
            "0.9701\n",
            "\n",
            "\n",
            "ON STEP: 400\n",
            "ACCURACY: \n",
            "0.9722\n",
            "\n",
            "\n",
            "ON STEP: 500\n",
            "ACCURACY: \n",
            "0.9753\n",
            "\n",
            "\n",
            "ON STEP: 600\n",
            "ACCURACY: \n",
            "0.9789\n",
            "\n",
            "\n",
            "ON STEP: 700\n",
            "ACCURACY: \n",
            "0.9808\n",
            "\n",
            "\n",
            "ON STEP: 800\n",
            "ACCURACY: \n",
            "0.9844\n",
            "\n",
            "\n",
            "ON STEP: 900\n",
            "ACCURACY: \n",
            "0.9839\n",
            "\n",
            "\n",
            "ON STEP: 1000\n",
            "ACCURACY: \n",
            "0.9859\n",
            "\n",
            "\n",
            "ON STEP: 1100\n",
            "ACCURACY: \n",
            "0.9834\n",
            "\n",
            "\n",
            "ON STEP: 1200\n",
            "ACCURACY: \n",
            "0.9858\n",
            "\n",
            "\n",
            "ON STEP: 1300\n",
            "ACCURACY: \n",
            "0.985\n",
            "\n",
            "\n",
            "ON STEP: 1400\n",
            "ACCURACY: \n",
            "0.9855\n",
            "\n",
            "\n",
            "ON STEP: 1500\n",
            "ACCURACY: \n",
            "0.9857\n",
            "\n",
            "\n",
            "ON STEP: 1600\n",
            "ACCURACY: \n",
            "0.9886\n",
            "\n",
            "\n",
            "ON STEP: 1700\n",
            "ACCURACY: \n",
            "0.9881\n",
            "\n",
            "\n",
            "ON STEP: 1800\n",
            "ACCURACY: \n",
            "0.9883\n",
            "\n",
            "\n",
            "ON STEP: 1900\n",
            "ACCURACY: \n",
            "0.9862\n",
            "\n",
            "\n",
            "ON STEP: 2000\n",
            "ACCURACY: \n",
            "0.988\n",
            "\n",
            "\n",
            "ON STEP: 2100\n",
            "ACCURACY: \n",
            "0.986\n",
            "\n",
            "\n",
            "ON STEP: 2200\n",
            "ACCURACY: \n",
            "0.9888\n",
            "\n",
            "\n",
            "ON STEP: 2300\n",
            "ACCURACY: \n",
            "0.9872\n",
            "\n",
            "\n",
            "ON STEP: 2400\n",
            "ACCURACY: \n",
            "0.9867\n",
            "\n",
            "\n",
            "ON STEP: 2500\n",
            "ACCURACY: \n",
            "0.989\n",
            "\n",
            "\n",
            "ON STEP: 2600\n",
            "ACCURACY: \n",
            "0.9891\n",
            "\n",
            "\n",
            "ON STEP: 2700\n",
            "ACCURACY: \n",
            "0.99\n",
            "\n",
            "\n",
            "ON STEP: 2800\n",
            "ACCURACY: \n",
            "0.9886\n",
            "\n",
            "\n",
            "ON STEP: 2900\n",
            "ACCURACY: \n",
            "0.9903\n",
            "\n",
            "\n",
            "ON STEP: 3000\n",
            "ACCURACY: \n",
            "0.987\n",
            "\n",
            "\n",
            "ON STEP: 3100\n",
            "ACCURACY: \n",
            "0.9885\n",
            "\n",
            "\n",
            "ON STEP: 3200\n",
            "ACCURACY: \n",
            "0.9886\n",
            "\n",
            "\n",
            "ON STEP: 3300\n",
            "ACCURACY: \n",
            "0.9882\n",
            "\n",
            "\n",
            "ON STEP: 3400\n",
            "ACCURACY: \n",
            "0.9908\n",
            "\n",
            "\n",
            "ON STEP: 3500\n",
            "ACCURACY: \n",
            "0.9894\n",
            "\n",
            "\n",
            "ON STEP: 3600\n",
            "ACCURACY: \n",
            "0.9884\n",
            "\n",
            "\n",
            "ON STEP: 3700\n",
            "ACCURACY: \n",
            "0.9895\n",
            "\n",
            "\n",
            "ON STEP: 3800\n",
            "ACCURACY: \n",
            "0.9881\n",
            "\n",
            "\n",
            "ON STEP: 3900\n",
            "ACCURACY: \n",
            "0.9896\n",
            "\n",
            "\n",
            "ON STEP: 4000\n",
            "ACCURACY: \n",
            "0.9886\n",
            "\n",
            "\n",
            "ON STEP: 4100\n",
            "ACCURACY: \n",
            "0.9871\n",
            "\n",
            "\n",
            "ON STEP: 4200\n",
            "ACCURACY: \n",
            "0.9907\n",
            "\n",
            "\n",
            "ON STEP: 4300\n",
            "ACCURACY: \n",
            "0.9887\n",
            "\n",
            "\n",
            "ON STEP: 4400\n",
            "ACCURACY: \n",
            "0.99\n",
            "\n",
            "\n",
            "ON STEP: 4500\n",
            "ACCURACY: \n",
            "0.9898\n",
            "\n",
            "\n",
            "ON STEP: 4600\n",
            "ACCURACY: \n",
            "0.9906\n",
            "\n",
            "\n",
            "ON STEP: 4700\n",
            "ACCURACY: \n",
            "0.9912\n",
            "\n",
            "\n",
            "ON STEP: 4800\n",
            "ACCURACY: \n",
            "0.9904\n",
            "\n",
            "\n",
            "ON STEP: 4900\n",
            "ACCURACY: \n",
            "0.9909\n",
            "\n",
            "\n"
          ],
          "name": "stdout"
        }
      ]
    },
    {
      "metadata": {
        "id": "efLLMvu7W8Cy",
        "colab_type": "code",
        "colab": {}
      },
      "cell_type": "code",
      "source": [
        ""
      ],
      "execution_count": 0,
      "outputs": []
    },
    {
      "metadata": {
        "id": "zkndgsKJW8FN",
        "colab_type": "code",
        "colab": {}
      },
      "cell_type": "code",
      "source": [
        ""
      ],
      "execution_count": 0,
      "outputs": []
    },
    {
      "metadata": {
        "id": "ZYSlfD-vW8IF",
        "colab_type": "code",
        "colab": {}
      },
      "cell_type": "code",
      "source": [
        ""
      ],
      "execution_count": 0,
      "outputs": []
    },
    {
      "metadata": {
        "id": "4zZ46vF9W8Ka",
        "colab_type": "code",
        "colab": {}
      },
      "cell_type": "code",
      "source": [
        ""
      ],
      "execution_count": 0,
      "outputs": []
    },
    {
      "metadata": {
        "id": "GNaYNy_RW8Mq",
        "colab_type": "code",
        "colab": {}
      },
      "cell_type": "code",
      "source": [
        ""
      ],
      "execution_count": 0,
      "outputs": []
    },
    {
      "metadata": {
        "id": "N1wCtvPSW8Qp",
        "colab_type": "code",
        "colab": {}
      },
      "cell_type": "code",
      "source": [
        ""
      ],
      "execution_count": 0,
      "outputs": []
    },
    {
      "metadata": {
        "id": "h9CDOMzGW8S6",
        "colab_type": "code",
        "colab": {}
      },
      "cell_type": "code",
      "source": [
        ""
      ],
      "execution_count": 0,
      "outputs": []
    },
    {
      "metadata": {
        "id": "OsmnkSHVW8VO",
        "colab_type": "code",
        "colab": {}
      },
      "cell_type": "code",
      "source": [
        ""
      ],
      "execution_count": 0,
      "outputs": []
    },
    {
      "metadata": {
        "id": "Vf0SSjfMW8YL",
        "colab_type": "code",
        "colab": {}
      },
      "cell_type": "code",
      "source": [
        ""
      ],
      "execution_count": 0,
      "outputs": []
    },
    {
      "metadata": {
        "id": "jCilsOcmW8bP",
        "colab_type": "code",
        "colab": {}
      },
      "cell_type": "code",
      "source": [
        ""
      ],
      "execution_count": 0,
      "outputs": []
    },
    {
      "metadata": {
        "id": "mhAC3p8jW8Ox",
        "colab_type": "code",
        "colab": {}
      },
      "cell_type": "code",
      "source": [
        ""
      ],
      "execution_count": 0,
      "outputs": []
    }
  ]
}